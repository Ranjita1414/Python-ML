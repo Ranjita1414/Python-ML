{
  "nbformat": 4,
  "nbformat_minor": 0,
  "metadata": {
    "colab": {
      "provenance": []
    },
    "kernelspec": {
      "name": "python3",
      "display_name": "Python 3"
    },
    "language_info": {
      "name": "python"
    }
  },
  "cells": [
    {
      "cell_type": "markdown",
      "source": [
        "**Variables** **And** **Datatypes**"
      ],
      "metadata": {
        "id": "Uxr4PikRK9mc"
      }
    },
    {
      "cell_type": "code",
      "source": [
        "print(\"Hello,World!\")\n",
        "first_name=\"Ranjita\"\n",
        "middle_name=\"Shivanagouda\"\n",
        "last_name=\"Goudappanavar\"\n",
        "print(\"My name is:\",first_name,middle_name,last_name)\n",
        "age=21\n",
        "print(\"Age is:\",age)\n",
        "print(f\"Name is: {first_name} Age is: {age}\")"
      ],
      "metadata": {
        "colab": {
          "base_uri": "https://localhost:8080/"
        },
        "id": "ZluLXzKy_24b",
        "outputId": "eb082edb-820b-4c5d-cffa-491c80ba23f4"
      },
      "execution_count": null,
      "outputs": [
        {
          "output_type": "stream",
          "name": "stdout",
          "text": [
            "Hello,World!\n",
            "My name is: Ranjita Shivanagouda Goudappanavar\n",
            "Age is: 21\n",
            "Name is: Ranjita Age is: 21\n"
          ]
        }
      ]
    },
    {
      "cell_type": "markdown",
      "source": [
        "**Indentation**"
      ],
      "metadata": {
        "id": "N9GV9q2XKdjr"
      }
    },
    {
      "cell_type": "code",
      "source": [
        "x=10\n",
        "if x>0:\n",
        "  print(\"x is positive\")\n",
        "  print(\"This is inside the if block\" )"
      ],
      "metadata": {
        "colab": {
          "base_uri": "https://localhost:8080/"
        },
        "id": "mTm4ANk8I2CM",
        "outputId": "80742435-925a-445b-bd4b-03f33024627e"
      },
      "execution_count": null,
      "outputs": [
        {
          "output_type": "stream",
          "name": "stdout",
          "text": [
            "x is positive\n",
            "This is inside the if block\n"
          ]
        }
      ]
    },
    {
      "cell_type": "markdown",
      "source": [
        "**String** **Type**"
      ],
      "metadata": {
        "id": "hk270qT7MYAU"
      }
    },
    {
      "cell_type": "code",
      "source": [
        "name=\"Ranjita\"\n",
        "message='Hello world'\n",
        "multiline=\"\"\"This is multiline\"\"\"\n",
        "print(name,message,multiline)"
      ],
      "metadata": {
        "colab": {
          "base_uri": "https://localhost:8080/"
        },
        "id": "BGANHIHgLYJ7",
        "outputId": "70021c8a-db55-4575-cb64-c59c268815e6"
      },
      "execution_count": null,
      "outputs": [
        {
          "output_type": "stream",
          "name": "stdout",
          "text": [
            "Ranjita Hello world This is multiline\n"
          ]
        }
      ]
    },
    {
      "cell_type": "markdown",
      "source": [
        "**Boolean** **Type**"
      ],
      "metadata": {
        "id": "XtR02W4PNSsT"
      }
    },
    {
      "cell_type": "code",
      "source": [
        "is_active=True\n",
        "is_finished=False\n",
        "print(is_active,is_finished)"
      ],
      "metadata": {
        "colab": {
          "base_uri": "https://localhost:8080/"
        },
        "id": "9GV2cMV0NR1U",
        "outputId": "0a0ffd90-b43c-4c02-8051-a470685b7460"
      },
      "execution_count": null,
      "outputs": [
        {
          "output_type": "stream",
          "name": "stdout",
          "text": [
            "True False\n"
          ]
        }
      ]
    },
    {
      "cell_type": "markdown",
      "source": [
        "**Type Checking**"
      ],
      "metadata": {
        "id": "zlEA-a3sNfks"
      }
    },
    {
      "cell_type": "code",
      "source": [
        "print(type(age))\n",
        "print(type(first_name))\n",
        "print(type(name))"
      ],
      "metadata": {
        "colab": {
          "base_uri": "https://localhost:8080/"
        },
        "id": "gVPJhy1NNmK0",
        "outputId": "5ea17e79-dcab-41c2-c450-4654ef222f9a"
      },
      "execution_count": null,
      "outputs": [
        {
          "output_type": "stream",
          "name": "stdout",
          "text": [
            "<class 'int'>\n",
            "<class 'str'>\n",
            "<class 'str'>\n"
          ]
        }
      ]
    },
    {
      "cell_type": "markdown",
      "source": [
        "**Type Conversion**"
      ],
      "metadata": {
        "id": "Ndd-ni8zOWUs"
      }
    },
    {
      "cell_type": "code",
      "source": [
        "str_number=\"123\"\n",
        "int_number=int(str_number)\n",
        "float_number=float(str_number)\n",
        "\n",
        "print(f\"Original:{str_number} (type:{type(str_number)})\")\n",
        "print(f\"Integer:{int_number} (type:{type(int_number)})\")\n",
        "print(f\"Float:{float_number} (type:{type(float_number)})\")"
      ],
      "metadata": {
        "colab": {
          "base_uri": "https://localhost:8080/"
        },
        "id": "COF1RpvqOeGM",
        "outputId": "75cf7c3b-304f-4d12-bff5-95f9b84185bc"
      },
      "execution_count": null,
      "outputs": [
        {
          "output_type": "stream",
          "name": "stdout",
          "text": [
            "Original:123 (type:<class 'str'>)\n",
            "Integer:123 (type:<class 'int'>)\n",
            "Float:123.0 (type:<class 'float'>)\n"
          ]
        }
      ]
    },
    {
      "cell_type": "markdown",
      "source": [
        "**Create variables for Personal Information**"
      ],
      "metadata": {
        "id": "aTkBawlniAzo"
      }
    },
    {
      "cell_type": "code",
      "source": [
        "name=\"Ranjita\"\n",
        "sir_name=\"Goudappanavar\"\n",
        "height=5.6\n",
        "age=21\n",
        "sem=\"5th Sem\"\n",
        "place=\"Aladakatti\"\n",
        "is_student=True\n",
        "print(f\"Name is:{name} {sir_name}\")\n",
        "print(f\"Height:{height} feet\")\n",
        "print(f\"Age:{age}\")\n",
        "print(f\"Sem:{sem}\")\n",
        "print(f\"Place is:{place}\")"
      ],
      "metadata": {
        "colab": {
          "base_uri": "https://localhost:8080/"
        },
        "id": "aPX0DsEmiHWQ",
        "outputId": "76d065b0-a7a0-4d6e-8c55-1d0bb32a4927"
      },
      "execution_count": null,
      "outputs": [
        {
          "output_type": "stream",
          "name": "stdout",
          "text": [
            "Name is:Ranjita Goudappanavar\n",
            "Height:5.6 feet\n",
            "Age:21\n",
            "Sem:5th Sem\n",
            "Place is:Aladakatti\n"
          ]
        }
      ]
    },
    {
      "cell_type": "markdown",
      "source": [
        "**Type Conversion**"
      ],
      "metadata": {
        "id": "OBjZkVJEj9T4"
      }
    },
    {
      "cell_type": "code",
      "source": [
        "age_str=str(age)\n",
        "height_int=int(height)\n",
        "print(f\"Age is string:{age_str}\")\n",
        "print(f\"Height as integer:{height_int}\")"
      ],
      "metadata": {
        "colab": {
          "base_uri": "https://localhost:8080/"
        },
        "id": "JMsn0yZKkDRw",
        "outputId": "5f9a9cb0-83b4-4510-83f6-dcee9c80c375"
      },
      "execution_count": null,
      "outputs": [
        {
          "output_type": "stream",
          "name": "stdout",
          "text": [
            "Age is string:21\n",
            "Height as integer:5\n"
          ]
        }
      ]
    },
    {
      "cell_type": "markdown",
      "source": [
        "**Operators And Basic operations**\n"
      ],
      "metadata": {
        "id": "Lv6Z55_zmBop"
      }
    },
    {
      "cell_type": "markdown",
      "source": [
        "**Arithmetic Operator**"
      ],
      "metadata": {
        "id": "NflMRRlCoI4Q"
      }
    },
    {
      "cell_type": "code",
      "source": [
        "a=10\n",
        "b=3\n",
        "print(f\"Addition:{a}+{b}={a+b}\")\n",
        "print(f\"Substract:{a}-{b}={a-b}\")\n",
        "print(f\"Multiplication:{a}*{b}={a*b}\")\n",
        "print(f\"Division:{a}/{b}={a/b}\")\n",
        "print(f\"Floor Divivsion:{a}//{b}={a//b}\")\n",
        "print(f\"Modulus:{a}%{b}={a%b}\")\n",
        "print(f\"Exponention:{a}**{b}={a**b}\")\n",
        "\n"
      ],
      "metadata": {
        "colab": {
          "base_uri": "https://localhost:8080/"
        },
        "id": "DeC-EgDnmI-g",
        "outputId": "de9f4fdb-26a5-44aa-858e-827e4fa7dde5"
      },
      "execution_count": null,
      "outputs": [
        {
          "output_type": "stream",
          "name": "stdout",
          "text": [
            "Addition:10+3=13\n",
            "Substract:10-3=7\n",
            "Multiplication:10*3=30\n",
            "Division:10/3=3.3333333333333335\n",
            "Floor Divivsion:10//3=3\n",
            "Modulus:10%3=1\n",
            "Exponention:10**3=1000\n"
          ]
        }
      ]
    },
    {
      "cell_type": "markdown",
      "source": [
        "**Order of operations(PEMDAS)**\n",
        "\n",
        "- P-Parantheses\n",
        "- E-Exponents\n",
        "- M-Multiplication\n",
        "- D-Divivsion\n",
        "- A-Addition\n",
        "- S-Substraction"
      ],
      "metadata": {
        "id": "-maJs9CKoR6_"
      }
    },
    {
      "cell_type": "code",
      "source": [
        "result=2+3*4**2-1\n",
        "print(f\"2+3*4**2-1={result}\")"
      ],
      "metadata": {
        "colab": {
          "base_uri": "https://localhost:8080/"
        },
        "id": "Udrq_m6JjV6t",
        "outputId": "986bffbe-bed8-4cfd-ff67-a34da6249418"
      },
      "execution_count": null,
      "outputs": [
        {
          "output_type": "stream",
          "name": "stdout",
          "text": [
            "2+3*4**2-1=49\n"
          ]
        }
      ]
    },
    {
      "cell_type": "markdown",
      "source": [
        "**Comparision Operator**"
      ],
      "metadata": {
        "id": "MHNna86jjY30"
      }
    },
    {
      "cell_type": "markdown",
      "source": [
        "**Integer Comparision**"
      ],
      "metadata": {
        "id": "B2b89S19jbu7"
      }
    },
    {
      "cell_type": "code",
      "source": [
        "a=200\n",
        "b=100\n",
        "print(f\"LessThan:{a<b}\")\n",
        "print(f\"GreaterThan:{a>b}\")\n",
        "print(f\"LessThanEqual:{a<=b}\")\n",
        "print(f\"GreaterThanEqual:{a>=b}\")\n",
        "print(f\"Equal:{a==b}\")\n",
        "print(f\"NotEqual:{a!=b}\")"
      ],
      "metadata": {
        "colab": {
          "base_uri": "https://localhost:8080/"
        },
        "id": "PjSp_6FTjewj",
        "outputId": "129db1bb-62e1-4661-d284-a6a65a1efbb9"
      },
      "execution_count": null,
      "outputs": [
        {
          "output_type": "stream",
          "name": "stdout",
          "text": [
            "LessThan:False\n",
            "GreaterThan:True\n",
            "LessThanEqual:False\n",
            "GreaterThanEqual:True\n",
            "Equal:False\n",
            "NotEqual:True\n"
          ]
        }
      ]
    },
    {
      "cell_type": "markdown",
      "source": [
        "**String Comparision**"
      ],
      "metadata": {
        "id": "Bv4MVutBjiKc"
      }
    },
    {
      "cell_type": "code",
      "source": [
        "n1=\"Ram\"\n",
        "n2=\"Ravi\"\n",
        "print(n1>n2)\n",
        "print(n1<n2)\n",
        "print(n1==n2)\n",
        "print(n1!=n2)\n",
        "print(n1<=n2)\n",
        "print(n1>=n2)"
      ],
      "metadata": {
        "colab": {
          "base_uri": "https://localhost:8080/"
        },
        "id": "md5VKBiXjkjL",
        "outputId": "7546104e-26b3-43b0-8e45-e2f91298b9ec"
      },
      "execution_count": null,
      "outputs": [
        {
          "output_type": "stream",
          "name": "stdout",
          "text": [
            "False\n",
            "True\n",
            "False\n",
            "True\n",
            "True\n",
            "False\n"
          ]
        }
      ]
    },
    {
      "cell_type": "markdown",
      "source": [
        "**Logical Operator**"
      ],
      "metadata": {
        "id": "uwduNfngjpMb"
      }
    },
    {
      "cell_type": "code",
      "source": [
        "p=True\n",
        "s=False\n",
        "print(f\"p and s:{p and s}\")\n",
        "print(f\"p or s:{p or s}\")\n",
        "print(f\"p not s:{not p}\")"
      ],
      "metadata": {
        "colab": {
          "base_uri": "https://localhost:8080/"
        },
        "id": "DSy3cVDCjrOc",
        "outputId": "d82dfb4a-7267-451b-acde-fe4e18ac1506"
      },
      "execution_count": null,
      "outputs": [
        {
          "output_type": "stream",
          "name": "stdout",
          "text": [
            "p and s:False\n",
            "p or s:True\n",
            "p not s:False\n"
          ]
        }
      ]
    },
    {
      "cell_type": "code",
      "source": [
        "#Practical Example\n",
        "age=20\n",
        "has_license=True\n",
        "can_drive=age>=18 and has_license\n",
        "print(f\"can drive:{can_drive}\")"
      ],
      "metadata": {
        "colab": {
          "base_uri": "https://localhost:8080/"
        },
        "id": "s-d0quWIjuB0",
        "outputId": "ae6b2535-227c-464c-9ce6-25d0d2f1e157"
      },
      "execution_count": null,
      "outputs": [
        {
          "output_type": "stream",
          "name": "stdout",
          "text": [
            "can drive:True\n"
          ]
        }
      ]
    },
    {
      "cell_type": "code",
      "source": [
        "#Multiple conditions\n",
        "score=85\n",
        "is_present=True\n",
        "has_passed=score>=90 and is_present\n",
        "print(f\"has passed:{has_passed}\")"
      ],
      "metadata": {
        "colab": {
          "base_uri": "https://localhost:8080/"
        },
        "id": "q8GQa9cSjws7",
        "outputId": "726f2b2c-beb2-4da4-a3e3-695d1b48095a"
      },
      "execution_count": null,
      "outputs": [
        {
          "output_type": "stream",
          "name": "stdout",
          "text": [
            "has passed:False\n"
          ]
        }
      ]
    },
    {
      "cell_type": "code",
      "source": [
        "#Personal Information\n",
        "age=18\n",
        "annual_income=50000\n",
        "credit_score=720\n",
        "has_colleteral= True"
      ],
      "metadata": {
        "id": "erWzJ1cDkmjb"
      },
      "execution_count": null,
      "outputs": []
    },
    {
      "cell_type": "code",
      "source": [
        "#Loan criteria\n",
        "min_age=18\n",
        "min_annual_income=30000\n",
        "min_credit_score=650\n",
        "min_has_colleteral=True\n",
        "eligible=age>=min_age and annual_income>=min_annual_income and credit_score>=min_credit_score\n",
        "print(f\"eligibility:{eligible}\")"
      ],
      "metadata": {
        "colab": {
          "base_uri": "https://localhost:8080/"
        },
        "id": "dyFo08uPj0X0",
        "outputId": "803acd21-4114-4cb8-f0c7-f2113f6b1cfb"
      },
      "execution_count": null,
      "outputs": [
        {
          "output_type": "stream",
          "name": "stdout",
          "text": [
            "eligibility:True\n"
          ]
        }
      ]
    },
    {
      "cell_type": "code",
      "source": [
        "#check Qualification\n",
        "age_qualified = age >= min_age\n",
        "income_qualified =annual_income >= min_annual_income\n",
        "credit_qualified = credit_score >= min_credit_score\n",
        "print(f\"age qualified:{age_qualified}\")\n",
        "print(f\"income qualified:{income_qualified}\")\n",
        "print(f\"credit qualified:{credit_qualified}\")"
      ],
      "metadata": {
        "colab": {
          "base_uri": "https://localhost:8080/"
        },
        "id": "mK59ApB1j3XL",
        "outputId": "8a8a543c-ce3c-42f6-9b83-9dd2d736ed8a"
      },
      "execution_count": null,
      "outputs": [
        {
          "output_type": "stream",
          "name": "stdout",
          "text": [
            "age qualified:True\n",
            "income qualified:True\n",
            "credit qualified:True\n"
          ]
        }
      ]
    },
    {
      "cell_type": "markdown",
      "source": [
        "**Data Strucutre**"
      ],
      "metadata": {
        "id": "KjnIrqpxj8Db"
      }
    },
    {
      "cell_type": "markdown",
      "source": [
        "List"
      ],
      "metadata": {
        "id": "ytni3V1Tj-Lz"
      }
    },
    {
      "cell_type": "code",
      "source": [
        "#creating list\n",
        "Fruits=['Banana','Apple','Mango']\n",
        "Number=[10,20,30,40]\n",
        "Mixed_data=['sihi',51,'Ram',54.8]\n",
        "print(Fruits)\n",
        "print(Number)\n",
        "print(Mixed_data)\n",
        "\n",
        "#indexing\n",
        "print(\"fisrt fruit:\",Fruits[0])\n",
        "print(\"second number:\",Number[1])\n",
        "print(\"3rd mixed data is:\",Mixed_data[2])\n",
        "\n",
        "#list slicing\n",
        "print(f\"first 2 fruits:\",Fruits[0:2])\n",
        "print(f\"last 2 numbers:\",Number[1:3])\n",
        "print(f\"first 3 mixed data:\",Mixed_data[0:3])\n",
        "\n",
        "#list methods\n",
        "Fruits.append(\"orange\")\n",
        "Fruits.insert(1,\"kiwi\")\n",
        "print(\"Upadated Fruit list:\",Fruits)\n",
        "remove=Fruits.pop()\n",
        "print(\"Upadated Fruit list:\",Fruits)\n",
        "print(\"Removed:\",remove)\n",
        "\n",
        "#list operation\n",
        "print(f\"Length of Number:{len(Number)}\")\n",
        "print(f\"contains 'Mango':{'Mango' in Fruits}\")\n",
        "print(f\"Index of Banana:{Fruits.index('Banana')}\")"
      ],
      "metadata": {
        "colab": {
          "base_uri": "https://localhost:8080/"
        },
        "id": "9JoyqAtkkAL7",
        "outputId": "831c987f-ab8b-4676-fda4-136c276e7464"
      },
      "execution_count": null,
      "outputs": [
        {
          "output_type": "stream",
          "name": "stdout",
          "text": [
            "['Banana', 'Apple', 'Mango']\n",
            "[10, 20, 30, 40]\n",
            "['sihi', 51, 'Ram', 54.8]\n",
            "fisrt fruit: Banana\n",
            "second number: 20\n",
            "3rd mixed data is: Ram\n",
            "first 2 fruits: ['Banana', 'Apple']\n",
            "last 2 numbers: [20, 30]\n",
            "first 3 mixed data: ['sihi', 51, 'Ram']\n",
            "Upadated Fruit list: ['Banana', 'kiwi', 'Apple', 'Mango', 'orange']\n",
            "Upadated Fruit list: ['Banana', 'kiwi', 'Apple', 'Mango']\n",
            "Removed: orange\n",
            "Length of Number:4\n",
            "contains 'Mango':True\n",
            "Index of Banana:0\n"
          ]
        }
      ]
    },
    {
      "cell_type": "markdown",
      "source": [
        "**Tuples**"
      ],
      "metadata": {
        "id": "fX_CF5_3kCe7"
      }
    },
    {
      "cell_type": "code",
      "source": [
        "#Tuple are inmutable\n",
        "coordinates=(10,20)\n",
        "rgb_color=(255,128,0)\n",
        "person_info=(\"pooja\",25,\"Engineer\",25,True)\n",
        "print(coordinates)\n",
        "print(rgb_color)\n",
        "print(person_info)\n",
        "\n",
        "#Tuple Unpacking\n",
        "x,y=coordinates\n",
        "print(f\"x:{x} y:{y}\")\n",
        "\n",
        "#Tuple Methods\n",
        "print(f\"Count of 25:{person_info.count(25)}\")\n",
        "print(f\"Index of pooja:{person_info.index('pooja')}\")"
      ],
      "metadata": {
        "colab": {
          "base_uri": "https://localhost:8080/"
        },
        "id": "S_4iJpINkHo0",
        "outputId": "b419bdc5-255b-45be-8071-96c8a96e9c58"
      },
      "execution_count": null,
      "outputs": [
        {
          "output_type": "stream",
          "name": "stdout",
          "text": [
            "(10, 20)\n",
            "(255, 128, 0)\n",
            "('pooja', 25, 'Engineer', 25, True)\n",
            "x:10 y:20\n",
            "Count of 25:2\n",
            "Index of pooja:0\n"
          ]
        }
      ]
    },
    {
      "cell_type": "markdown",
      "source": [
        "**Why use Tuples?**"
      ],
      "metadata": {
        "id": "vAuCo_nvkJ1M"
      }
    },
    {
      "cell_type": "markdown",
      "source": [
        "- Immutable(safe for dictionary keys)\n",
        "- Slightly faster than list\n",
        "- Good for fixed collections"
      ],
      "metadata": {
        "id": "S7A71416kL8s"
      }
    },
    {
      "cell_type": "code",
      "source": [],
      "metadata": {
        "id": "UidWpebohWMG"
      },
      "execution_count": null,
      "outputs": []
    }
  ]
}