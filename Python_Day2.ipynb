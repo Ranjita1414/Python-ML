{
  "nbformat": 4,
  "nbformat_minor": 0,
  "metadata": {
    "colab": {
      "provenance": []
    },
    "kernelspec": {
      "name": "python3",
      "display_name": "Python 3"
    },
    "language_info": {
      "name": "python"
    }
  },
  "cells": [
    {
      "cell_type": "markdown",
      "source": [
        "**Dictionary**"
      ],
      "metadata": {
        "id": "kEamVJE6TpqV"
      }
    },
    {
      "cell_type": "code",
      "execution_count": null,
      "metadata": {
        "colab": {
          "base_uri": "https://localhost:8080/"
        },
        "id": "6KfHXTgrTjMG",
        "outputId": "c91d44de-399d-4b60-bbc5-c598d2501a29"
      },
      "outputs": [
        {
          "output_type": "stream",
          "name": "stdout",
          "text": [
            "{'name': 'Ranjita', 'age': 21, 'job': 'Software engineer', 'salary': 50000, 'skills': ['python', 'java', 'c++']}\n",
            "Name:Ranjita\n",
            "Age:21\n",
            "keys:['name', 'age', 'job', 'salary', 'skills']\n",
            "values:['Ranjita', 21, 'Software engineer', 50000, ['python', 'java', 'c++']]\n",
            "items:[('name', 'Ranjita'), ('age', 21), ('job', 'Software engineer'), ('salary', 50000), ('skills', ['python', 'java', 'c++'])]\n"
          ]
        }
      ],
      "source": [
        "person={\n",
        "    \"name\":\"Ranjita\",\n",
        "    \"age\":21,\n",
        "    \"job\":\"Software engineer\",\n",
        "    \"salary\":50000,\n",
        "    \"skills\":[\"python\",\"java\",\"c++\"]\n",
        "}\n",
        "print(person)\n",
        "\n",
        "#Accessing Values\n",
        "print(f\"Name:{person['name']}\")\n",
        "print(f\"Age:{person.get('age','unknown')}\")\n",
        "\n",
        "#Dictionary Methods\n",
        "print(f\"keys:{list (person.keys())}\")\n",
        "print(f\"values:{list (person.values())}\")\n",
        "print(f\"items:{list (person.items())}\")\n",
        "\n",
        "#Adding/Updating\n",
        "person[\"location\"]=\"Network\"\n",
        "person[\"salary\"]=80000"
      ]
    },
    {
      "cell_type": "code",
      "source": [
        "inventory={\n",
        "    \"laptops\":{\n",
        "        \"quantity\":50,\n",
        "        \"price\":999.99\n",
        "    },\n",
        "    \"phones\":{\n",
        "        \"quantity\":100,\n",
        "        \"price\":599.99\n",
        "    },\n",
        "    \"tablets\":{\n",
        "        \"quantity\":30,\n",
        "        \"price\":399.99\n",
        "    }\n",
        "}\n",
        "\n",
        "#Nested Access\n",
        "print(f\"laptops price:{inventory['laptops']['price']}\")\n",
        "print(f\"Total quantity:{inventory['phones']['quantity']}\")"
      ],
      "metadata": {
        "colab": {
          "base_uri": "https://localhost:8080/"
        },
        "id": "-phcv6rqT7ZV",
        "outputId": "8125b3c0-3f62-4248-f517-73e99ef06fbd"
      },
      "execution_count": null,
      "outputs": [
        {
          "output_type": "stream",
          "name": "stdout",
          "text": [
            "laptops price:999.99\n",
            "Total quantity:100\n"
          ]
        }
      ]
    },
    {
      "cell_type": "markdown",
      "source": [
        "**Sets contain unique Elements**"
      ],
      "metadata": {
        "id": "jn390iSZT9pG"
      }
    },
    {
      "cell_type": "code",
      "source": [
        "colors={\"red\",\"green\",\"blue\",\"red\"}\n",
        "print(f\"colors:{colors}\")"
      ],
      "metadata": {
        "colab": {
          "base_uri": "https://localhost:8080/"
        },
        "id": "dOD8nBt3UACd",
        "outputId": "56721d3c-3f22-4433-8534-c2df360bc527"
      },
      "execution_count": null,
      "outputs": [
        {
          "output_type": "stream",
          "name": "stdout",
          "text": [
            "colors:{'green', 'red', 'blue'}\n"
          ]
        }
      ]
    },
    {
      "cell_type": "markdown",
      "source": [
        "**Set Operations**"
      ],
      "metadata": {
        "id": "N2mDfzaNUF9N"
      }
    },
    {
      "cell_type": "code",
      "source": [
        "team1_skills={\"python\",\"javascript\",\"c++\"}\n",
        "team2_skills={\"c\",\"javascript\",\"c++\",\"sql\"}\n",
        "\n",
        "#Common Operations\n",
        "print(f\"union:{team1_skills.union(team2_skills)}\")\n",
        "print(f\"intersection:{team1_skills.intersection(team2_skills)}\")\n",
        "print(f\"difference:{team1_skills.difference(team2_skills)}\")"
      ],
      "metadata": {
        "colab": {
          "base_uri": "https://localhost:8080/"
        },
        "id": "UGWZPwjsUFeN",
        "outputId": "2490e7d3-d6ed-4ef0-ec87-f0e43d847283"
      },
      "execution_count": null,
      "outputs": [
        {
          "output_type": "stream",
          "name": "stdout",
          "text": [
            "union:{'javascript', 'python', 'c++', 'sql', 'c'}\n",
            "intersection:{'javascript', 'c++'}\n",
            "difference:{'python'}\n"
          ]
        }
      ]
    },
    {
      "cell_type": "markdown",
      "source": [
        "**Adding to sets**"
      ],
      "metadata": {
        "id": "6adgXorEUL_2"
      }
    },
    {
      "cell_type": "code",
      "source": [
        "colors.add(\"yellow\")\n",
        "colors.update([\"purple\",\"orange\"])\n",
        "print(f\"updated colors:\\n{colors}\")"
      ],
      "metadata": {
        "colab": {
          "base_uri": "https://localhost:8080/"
        },
        "id": "67n6nQ2pUNVl",
        "outputId": "34d15f46-cb26-4fc2-945a-92ab5a6dc21e"
      },
      "execution_count": null,
      "outputs": [
        {
          "output_type": "stream",
          "name": "stdout",
          "text": [
            "updated colors:\n",
            "{'orange', 'blue', 'yellow', 'green', 'red', 'purple'}\n"
          ]
        }
      ]
    },
    {
      "cell_type": "markdown",
      "source": [
        "**Control Flow**"
      ],
      "metadata": {
        "id": "aqVRJN_sURL9"
      }
    },
    {
      "cell_type": "markdown",
      "source": [
        "Conditional Statements"
      ],
      "metadata": {
        "id": "e_OzmGM9UUG1"
      }
    },
    {
      "cell_type": "markdown",
      "source": [
        " - Basic if-else\n"
      ],
      "metadata": {
        "id": "0VKnVZVRUYJF"
      }
    },
    {
      "cell_type": "code",
      "source": [
        "def get_grade_letter(score):\n",
        "  if score>=90:\n",
        "    return \"A\"\n",
        "  elif score>=80:\n",
        "    return \"B\"\n",
        "  elif score>=70:\n",
        "    return \"C\"\n",
        "  elif score>=60:\n",
        "    return \"D\"\n",
        "  else:\n",
        "    return \"F\""
      ],
      "metadata": {
        "id": "9kBHuMfPUZvu"
      },
      "execution_count": null,
      "outputs": []
    },
    {
      "cell_type": "markdown",
      "source": [
        "- Test the function\n"
      ],
      "metadata": {
        "id": "JieUGoO5Ud_G"
      }
    },
    {
      "cell_type": "code",
      "source": [
        "test_score=[95,83,72,65,58]\n",
        "for score in test_score:\n",
        "  grade=get_grade_letter(score)\n",
        "  print(f\"Score:{score} Grade:{grade}\")"
      ],
      "metadata": {
        "colab": {
          "base_uri": "https://localhost:8080/"
        },
        "id": "NEmfXNLZUfX-",
        "outputId": "ca440635-320a-46b5-bec3-f9660f9d221d"
      },
      "execution_count": null,
      "outputs": [
        {
          "output_type": "stream",
          "name": "stdout",
          "text": [
            "Score:95 Grade:A\n",
            "Score:83 Grade:B\n",
            "Score:72 Grade:C\n",
            "Score:65 Grade:D\n",
            "Score:58 Grade:F\n"
          ]
        }
      ]
    },
    {
      "cell_type": "markdown",
      "source": [
        "- Nested Condition\n"
      ],
      "metadata": {
        "id": "fKctFayoUib1"
      }
    },
    {
      "cell_type": "code",
      "source": [
        "def get_shipping_cost(weight,distance):\n",
        "  base_cost=5.0\n",
        "\n",
        "  if weight<=1:\n",
        "    weight_cost=2.0\n",
        "  elif weight<=5:\n",
        "    weight_cost=5.0\n",
        "  else:\n",
        "    weight_cost=10.0\n",
        "\n",
        "\n",
        "  if distance<=100:\n",
        "    distance_cost=1.0\n",
        "  elif distance<=500:\n",
        "    distance_cost=3.0\n",
        "  else:\n",
        "    distance_cost=7.0\n",
        "\n",
        "  return base_cost+weight_cost+distance_cost\n"
      ],
      "metadata": {
        "id": "yUKRf770Ujnt"
      },
      "execution_count": null,
      "outputs": []
    },
    {
      "cell_type": "markdown",
      "source": [
        "- Test shipping costs"
      ],
      "metadata": {
        "id": "etUOw7g2Unqt"
      }
    },
    {
      "cell_type": "code",
      "source": [
        "print(f\"Light, close:${get_shipping_cost(0.5,50)}\")\n",
        "print(f\"Heavy, far:${get_shipping_cost(10,800)}\")"
      ],
      "metadata": {
        "colab": {
          "base_uri": "https://localhost:8080/"
        },
        "id": "OCYn7nGVUpCm",
        "outputId": "8dee3ff7-b0aa-4f3c-d09c-b1f82575d5a1"
      },
      "execution_count": null,
      "outputs": [
        {
          "output_type": "stream",
          "name": "stdout",
          "text": [
            "Light, close:$8.0\n",
            "Heavy, far:$22.0\n"
          ]
        }
      ]
    },
    {
      "cell_type": "markdown",
      "source": [
        "**Loops-For Loop**"
      ],
      "metadata": {
        "id": "msX3T0FlUuHd"
      }
    },
    {
      "cell_type": "markdown",
      "source": [
        "- Basic For Loop\n"
      ],
      "metadata": {
        "id": "nn4GE1M5Uym1"
      }
    },
    {
      "cell_type": "code",
      "source": [
        "fruits=[\"apple\",\"banana\",\"orange\",\"grape\"]\n",
        "for fruit in fruits:\n",
        "  print(\"I like\",fruit)"
      ],
      "metadata": {
        "colab": {
          "base_uri": "https://localhost:8080/"
        },
        "id": "A-aGOTmZU0gl",
        "outputId": "716637ac-739b-41a3-c290-4f3788b70794"
      },
      "execution_count": null,
      "outputs": [
        {
          "output_type": "stream",
          "name": "stdout",
          "text": [
            "I like apple\n",
            "I like banana\n",
            "I like orange\n",
            "I like grape\n"
          ]
        }
      ]
    },
    {
      "cell_type": "markdown",
      "source": [
        "- **Loop With Enumerate(get index)**"
      ],
      "metadata": {
        "id": "1vFwesXLU5Y1"
      }
    },
    {
      "cell_type": "code",
      "source": [
        "for i, fruit in enumerate(fruits):\n",
        "  print(f\"{i+1}.I like {fruit}\")"
      ],
      "metadata": {
        "colab": {
          "base_uri": "https://localhost:8080/"
        },
        "id": "jBmr7H2tU6H1",
        "outputId": "6defaf4b-27e9-4a24-e85d-37bef5842396"
      },
      "execution_count": null,
      "outputs": [
        {
          "output_type": "stream",
          "name": "stdout",
          "text": [
            "1.I like apple\n",
            "2.I like banana\n",
            "3.I like orange\n",
            "4.I like grape\n"
          ]
        }
      ]
    },
    {
      "cell_type": "markdown",
      "source": [
        "- **Loop with range**"
      ],
      "metadata": {
        "id": "ikSc4U8BVAxN"
      }
    },
    {
      "cell_type": "code",
      "source": [
        "for day in range(1,9):\n",
        "  print(\"Day\",day,\"of the week\")"
      ],
      "metadata": {
        "colab": {
          "base_uri": "https://localhost:8080/"
        },
        "id": "Lu2atMeoVCgO",
        "outputId": "234f720f-1b21-477e-9619-8a61d4840005"
      },
      "execution_count": null,
      "outputs": [
        {
          "output_type": "stream",
          "name": "stdout",
          "text": [
            "Day 1 of the week\n",
            "Day 2 of the week\n",
            "Day 3 of the week\n",
            "Day 4 of the week\n",
            "Day 5 of the week\n",
            "Day 6 of the week\n",
            "Day 7 of the week\n",
            "Day 8 of the week\n"
          ]
        }
      ]
    },
    {
      "cell_type": "markdown",
      "source": [
        "- **Nested Loops-creating a multiplication table**"
      ],
      "metadata": {
        "id": "E_izAMqEVJA1"
      }
    },
    {
      "cell_type": "code",
      "source": [
        "print(\"Multiplication table\")\n",
        "for i in range(1,6):\n",
        "  for j in range(1,6):\n",
        "    product=i*j\n",
        "    print(i,\"x\",j,\"=\",product)"
      ],
      "metadata": {
        "colab": {
          "base_uri": "https://localhost:8080/"
        },
        "id": "rayE_EVPVK_9",
        "outputId": "52f224a1-4962-42c4-95b0-926c3d761f46"
      },
      "execution_count": null,
      "outputs": [
        {
          "output_type": "stream",
          "name": "stdout",
          "text": [
            "Multiplication table\n",
            "1 x 1 = 1\n",
            "1 x 2 = 2\n",
            "1 x 3 = 3\n",
            "1 x 4 = 4\n",
            "1 x 5 = 5\n",
            "2 x 1 = 2\n",
            "2 x 2 = 4\n",
            "2 x 3 = 6\n",
            "2 x 4 = 8\n",
            "2 x 5 = 10\n",
            "3 x 1 = 3\n",
            "3 x 2 = 6\n",
            "3 x 3 = 9\n",
            "3 x 4 = 12\n",
            "3 x 5 = 15\n",
            "4 x 1 = 4\n",
            "4 x 2 = 8\n",
            "4 x 3 = 12\n",
            "4 x 4 = 16\n",
            "4 x 5 = 20\n",
            "5 x 1 = 5\n",
            "5 x 2 = 10\n",
            "5 x 3 = 15\n",
            "5 x 4 = 20\n",
            "5 x 5 = 25\n"
          ]
        }
      ]
    },
    {
      "cell_type": "markdown",
      "source": [
        "- **Processing data with loops**"
      ],
      "metadata": {
        "id": "pmzlvU3nVO2d"
      }
    },
    {
      "cell_type": "code",
      "source": [
        "sales_data=[\n",
        "    {\"product\":\"Laptop\",\"price\":999,\"quantity\":5},\n",
        "    {\"product\":\"Smartphone\",\"price\":599,\"quantity\":10},\n",
        "    {\"product\":\"Tablet\",\"price\":299,\"quantity\":8}\n",
        "]\n",
        "\n",
        "total_revenue=0\n",
        "\n",
        "for item in sales_data:\n",
        "  revenue=item[\"price\"]*item[\"quantity\"]\n",
        "  total_revenue+=revenue\n",
        "  print(f\"{item['product']}:${revenue}\")\n",
        "\n",
        "print(f\"Total Revenue:${total_revenue}\")"
      ],
      "metadata": {
        "colab": {
          "base_uri": "https://localhost:8080/"
        },
        "id": "Q3A6AjmvVQ6d",
        "outputId": "37cf1ac7-c387-469d-9bde-e341cc4d2a6c"
      },
      "execution_count": null,
      "outputs": [
        {
          "output_type": "stream",
          "name": "stdout",
          "text": [
            "Laptop:$4995\n",
            "Smartphone:$5990\n",
            "Tablet:$2392\n",
            "Total Revenue:$13377\n"
          ]
        }
      ]
    },
    {
      "cell_type": "markdown",
      "source": [
        "**Loops-While Loop**"
      ],
      "metadata": {
        "id": "pm6FPW7hVU4d"
      }
    },
    {
      "cell_type": "markdown",
      "source": [
        "While loop for user input simulation\n",
        "\n"
      ],
      "metadata": {
        "id": "2qZhfkEhVYqt"
      }
    },
    {
      "cell_type": "code",
      "source": [
        "def simple_guessing_game():\n",
        "  target=7\n",
        "  guess=0\n",
        "  attempts=0\n",
        "  print(\"Guess the number between 1 and 10\")\n",
        "\n",
        "  while guess!=target:\n",
        "\n",
        "    #simulate user input\n",
        "    import random\n",
        "    guess=random.randint(1,10)\n",
        "    attempts+=1\n",
        "\n",
        "    if guess <target:\n",
        "      print(f\"Guess{attempts}:{guess}-Too low!\")\n",
        "    elif guess>target:\n",
        "      print(f\"Guess{attempts}:{guess}-Too high!\")\n",
        "    else:\n",
        "      print(f\"Guess{attempts}:{guess}-Correct\")\n",
        "\n",
        "    #Safety check\n",
        "    if attempts>10:\n",
        "      print(\"Max attempts reached!\")\n",
        "      break\n",
        "\n",
        "  print(f\"Game finished in {attempts} attempts\")\n",
        "\n",
        "simple_guessing_game()"
      ],
      "metadata": {
        "colab": {
          "base_uri": "https://localhost:8080/"
        },
        "id": "73WAv0L5VcqF",
        "outputId": "f8e161e5-083b-4ce2-8e8c-cf1c7616e48b"
      },
      "execution_count": null,
      "outputs": [
        {
          "output_type": "stream",
          "name": "stdout",
          "text": [
            "Guess the number between 1 and 10\n",
            "Guess1:7-Correct\n",
            "Game finished in 1 attempts\n"
          ]
        }
      ]
    },
    {
      "cell_type": "markdown",
      "source": [
        "**While loop for processing**"
      ],
      "metadata": {
        "id": "OyhmbuhfVfKl"
      }
    },
    {
      "cell_type": "code",
      "source": [
        "def process_queue():\n",
        "  queue=[\"Task 1\",\"Task 2\",\"Task 3\",\"Task 4\"]\n",
        "\n",
        "\n",
        "  while queue:\n",
        "    current_task=queue.pop(0)\n",
        "    print(f\"processing:{current_task}\")\n",
        "    print(f\"Remaining tasks:{len(queue)}\")\n",
        "\n",
        "  print(\"All tasks completed!\")\n",
        "\n",
        "process_queue()"
      ],
      "metadata": {
        "colab": {
          "base_uri": "https://localhost:8080/"
        },
        "id": "zkGVwWdvVgu1",
        "outputId": "5dff5881-d61c-487c-80cc-9c74f57c9c95"
      },
      "execution_count": null,
      "outputs": [
        {
          "output_type": "stream",
          "name": "stdout",
          "text": [
            "processing:Task 1\n",
            "Remaining tasks:3\n",
            "processing:Task 2\n",
            "Remaining tasks:2\n",
            "processing:Task 3\n",
            "Remaining tasks:1\n",
            "processing:Task 4\n",
            "Remaining tasks:0\n",
            "All tasks completed!\n"
          ]
        }
      ]
    },
    {
      "cell_type": "markdown",
      "source": [
        "**Functions Basics**"
      ],
      "metadata": {
        "id": "yph3RIqBVs1N"
      }
    },
    {
      "cell_type": "markdown",
      "source": [
        "Basic Functions Definition\n",
        "\n"
      ],
      "metadata": {
        "id": "tDp61M2NVvf2"
      }
    },
    {
      "cell_type": "code",
      "source": [
        "def greet(name):\n",
        "  return f\"Hello,{name}\""
      ],
      "metadata": {
        "id": "gy3DIoLbVy7G"
      },
      "execution_count": null,
      "outputs": []
    },
    {
      "cell_type": "markdown",
      "source": [
        "- Function call"
      ],
      "metadata": {
        "id": "Ffya8xKfV_19"
      }
    },
    {
      "cell_type": "code",
      "source": [
        "message=greet(\"Python programmer\")\n",
        "print(message)"
      ],
      "metadata": {
        "colab": {
          "base_uri": "https://localhost:8080/"
        },
        "id": "Anwic7PdWBfN",
        "outputId": "45f6b112-1712-4887-a3c8-1907f29e8dfb"
      },
      "execution_count": null,
      "outputs": [
        {
          "output_type": "stream",
          "name": "stdout",
          "text": [
            "Hello,Python programmer\n"
          ]
        }
      ]
    },
    {
      "cell_type": "markdown",
      "source": [
        "- Function with multiple parameter"
      ],
      "metadata": {
        "id": "jlnxAKnJWHy2"
      }
    },
    {
      "cell_type": "code",
      "source": [
        "def calculate_area(length,width):\n",
        "  area=length*width\n",
        "  return area"
      ],
      "metadata": {
        "id": "nya1gitpWK99"
      },
      "execution_count": null,
      "outputs": []
    },
    {
      "cell_type": "markdown",
      "source": [
        "- Test the function\n",
        "\n"
      ],
      "metadata": {
        "id": "ASXKdubpWNCW"
      }
    },
    {
      "cell_type": "code",
      "source": [
        "room_area=calculate_area(10,5)\n",
        "print(f\"Room area:{room_area} square feet\")"
      ],
      "metadata": {
        "colab": {
          "base_uri": "https://localhost:8080/"
        },
        "id": "tE1UT2SYWOTd",
        "outputId": "43bc4ad9-caea-4c90-8505-6df47a7a1b29"
      },
      "execution_count": null,
      "outputs": [
        {
          "output_type": "stream",
          "name": "stdout",
          "text": [
            "Room area:50 square feet\n"
          ]
        }
      ]
    },
    {
      "cell_type": "markdown",
      "source": [
        "- Function with default parameter"
      ],
      "metadata": {
        "id": "sWPMfHdyWUsm"
      }
    },
    {
      "cell_type": "code",
      "source": [
        "def create_user_profile(name,age=18,location=\"unknown\",active=True):\n",
        "  return{\n",
        "      \"name\":name,\n",
        "      \"age\":age,\n",
        "      \"location\":location,\n",
        "      \"active\":active\n",
        "  }\n"
      ],
      "metadata": {
        "id": "GgX4yalbWWWl"
      },
      "execution_count": null,
      "outputs": []
    },
    {
      "cell_type": "markdown",
      "source": [
        "**Different ways to call**"
      ],
      "metadata": {
        "id": "6Wan6lNpWall"
      }
    },
    {
      "cell_type": "code",
      "source": [
        "profile1=create_user_profile(\"Alice\")\n",
        "profile2=create_user_profile(\"Bob\",25)\n",
        "profile3=create_user_profile(\"Charlie\",location=\"New york\",age=30)\n",
        "print(f\"Profile 1:{profile1}\")\n",
        "print(f\"Profile 2:{profile2}\")\n",
        "print(f\"Profile 3:{profile3}\")"
      ],
      "metadata": {
        "colab": {
          "base_uri": "https://localhost:8080/"
        },
        "id": "UxX-Mn7iWdHN",
        "outputId": "2dc9da9a-6e4b-4c94-fd16-b06be91c2e2e"
      },
      "execution_count": null,
      "outputs": [
        {
          "output_type": "stream",
          "name": "stdout",
          "text": [
            "Profile 1:{'name': 'Alice', 'age': 18, 'location': 'unknown', 'active': True}\n",
            "Profile 2:{'name': 'Bob', 'age': 25, 'location': 'unknown', 'active': True}\n",
            "Profile 3:{'name': 'Charlie', 'age': 30, 'location': 'New york', 'active': True}\n"
          ]
        }
      ]
    },
    {
      "cell_type": "markdown",
      "source": [
        "**Advanced Function Concepts**"
      ],
      "metadata": {
        "id": "jISls3jbWfYV"
      }
    },
    {
      "cell_type": "markdown",
      "source": [
        "- Function returning multiple values"
      ],
      "metadata": {
        "id": "x5hDWCvKWh81"
      }
    },
    {
      "cell_type": "code",
      "source": [
        "def analyze_text(text):\n",
        "  words=text.split()\n",
        "  word_count=len(words)\n",
        "  char_count=len(text)\n",
        "  char_count_no_spaces=len(text.replace(\" \",\"\"))\n",
        "\n",
        "  return word_count,char_count,char_count_no_spaces"
      ],
      "metadata": {
        "id": "O1-mKiN4WjPG"
      },
      "execution_count": null,
      "outputs": []
    },
    {
      "cell_type": "markdown",
      "source": [
        "- **Test with sample text**"
      ],
      "metadata": {
        "id": "cJ5V_g-NWm9m"
      }
    },
    {
      "cell_type": "code",
      "source": [
        "sample_text=\"Python is a powerfull programming language\"\n",
        "\n",
        "words,chars,char_no_spaces=analyze_text(sample_text)\n",
        "\n",
        "print(f\"Text:'{sample_text}'\")\n",
        "print(f\"Words count:'{words}'\")\n",
        "print(f\"Characters count:'{chars}'\")\n",
        "print(f\"Characters count(no spaces):'{char_no_spaces}'\")"
      ],
      "metadata": {
        "colab": {
          "base_uri": "https://localhost:8080/"
        },
        "id": "-0ZzEunVWqwW",
        "outputId": "719b1371-d585-4ab7-d333-510f118320b0"
      },
      "execution_count": null,
      "outputs": [
        {
          "output_type": "stream",
          "name": "stdout",
          "text": [
            "Text:'Python is a powerfull programming language'\n",
            "Words count:'6'\n",
            "Characters count:'42'\n",
            "Characters count(no spaces):'37'\n"
          ]
        }
      ]
    },
    {
      "cell_type": "markdown",
      "source": [
        "**Variable length argument**"
      ],
      "metadata": {
        "id": "rS0sbvQIWsoF"
      }
    },
    {
      "cell_type": "code",
      "source": [
        "def calculate_average(*numbers):\n",
        "  if not numbers:\n",
        "    return 0\n",
        "\n",
        "  return sum(numbers)/len(numbers)"
      ],
      "metadata": {
        "id": "IWxUnI6MWv0O"
      },
      "execution_count": null,
      "outputs": []
    },
    {
      "cell_type": "markdown",
      "source": [
        "**Test with different numbers of argument**"
      ],
      "metadata": {
        "id": "KxsJIkk_WzRF"
      }
    },
    {
      "cell_type": "code",
      "source": [
        "avg1=calculate_average(10,20,30,40)\n",
        "avg2=calculate_average(1,2,3,5)\n",
        "avg3=calculate_average(100)\n",
        "\n",
        "print(f\"Average of 10,20,30,40:{avg1}\")\n",
        "print(f\"Average of 1,2,3,5:{avg2}\")\n",
        "print(f\"Average of 100:{avg3}\")"
      ],
      "metadata": {
        "colab": {
          "base_uri": "https://localhost:8080/"
        },
        "id": "RNBeu0kHW1s1",
        "outputId": "dd1e3d5c-8d32-49f8-fe50-6280b1b8b7b2"
      },
      "execution_count": null,
      "outputs": [
        {
          "output_type": "stream",
          "name": "stdout",
          "text": [
            "Average of 10,20,30,40:25.0\n",
            "Average of 1,2,3,5:2.75\n",
            "Average of 100:100.0\n"
          ]
        }
      ]
    },
    {
      "cell_type": "markdown",
      "source": [
        "**Keyword argument**"
      ],
      "metadata": {
        "id": "D7EQ42IWW3rl"
      }
    },
    {
      "cell_type": "code",
      "source": [
        "def create_report(**data):\n",
        "  print(\"=== REPORT ===\")\n",
        "\n",
        "  for key,value in data.items():\n",
        "    print(f\"{key.replace('_','').title()}:{value}\")\n",
        "\n",
        "  print(\"============\")\n",
        "\n",
        "create_report(\n",
        "    title=\"Monthly sales report\",\n",
        "    date=\"2024-01-01\",\n",
        "    total_sales=15000,\n",
        "    new_customers=25,\n",
        "    returning_customers=150\n",
        ")\n"
      ],
      "metadata": {
        "colab": {
          "base_uri": "https://localhost:8080/"
        },
        "id": "PZTvxIpAW6P-",
        "outputId": "be560fbf-edb2-4fc0-edb0-ff816b2b28b8"
      },
      "execution_count": null,
      "outputs": [
        {
          "output_type": "stream",
          "name": "stdout",
          "text": [
            "=== REPORT ===\n",
            "Title:Monthly sales report\n",
            "Date:2024-01-01\n",
            "Totalsales:15000\n",
            "Newcustomers:25\n",
            "Returningcustomers:150\n",
            "============\n"
          ]
        }
      ]
    },
    {
      "cell_type": "markdown",
      "source": [
        "**Lambda Functions**"
      ],
      "metadata": {
        "id": "L8dC5nlZXEEe"
      }
    },
    {
      "cell_type": "markdown",
      "source": [
        "Lambda functions(anonymous functions)"
      ],
      "metadata": {
        "id": "mIfH3E5EXGx1"
      }
    },
    {
      "cell_type": "markdown",
      "source": [
        "- Regular Functions"
      ],
      "metadata": {
        "id": "81-MPqxVXIvm"
      }
    },
    {
      "cell_type": "code",
      "source": [
        "def squares(x):\n",
        "  return x**2"
      ],
      "metadata": {
        "id": "Yy6IcKEAXJ19"
      },
      "execution_count": null,
      "outputs": []
    },
    {
      "cell_type": "markdown",
      "source": [
        "- Lambda equivalent"
      ],
      "metadata": {
        "id": "WLBgjZEXXNeV"
      }
    },
    {
      "cell_type": "code",
      "source": [
        "\n",
        "square_lambda=lambda x:x**2\n",
        "print(f\"Regular function:{squares(5)}\")\n",
        "print(f\"Lambda function:{square_lambda(5)}\")"
      ],
      "metadata": {
        "colab": {
          "base_uri": "https://localhost:8080/"
        },
        "id": "SwPFA1zIXObG",
        "outputId": "ff4597b1-cd1c-43a3-c062-1cf8374f7ba6"
      },
      "execution_count": null,
      "outputs": [
        {
          "output_type": "stream",
          "name": "stdout",
          "text": [
            "Regular function:25\n",
            "Lambda function:25\n"
          ]
        }
      ]
    },
    {
      "cell_type": "markdown",
      "source": [
        "- **Lambda with multiple arguments**"
      ],
      "metadata": {
        "id": "YTuaPKOTXUQt"
      }
    },
    {
      "cell_type": "code",
      "source": [
        "multiply=lambda x,y:x*y\n",
        "print(f\"Multiplication:{multiply(3,4)}\")"
      ],
      "metadata": {
        "colab": {
          "base_uri": "https://localhost:8080/"
        },
        "id": "ZgYDwFbGXaKd",
        "outputId": "245cde60-9da6-4f93-a8bd-63f1f27f4c77"
      },
      "execution_count": null,
      "outputs": [
        {
          "output_type": "stream",
          "name": "stdout",
          "text": [
            "Multiplication:12\n"
          ]
        }
      ]
    },
    {
      "cell_type": "markdown",
      "source": [
        "- **Lambda with built-in functions**"
      ],
      "metadata": {
        "id": "BSg_guwoXd39"
      }
    },
    {
      "cell_type": "code",
      "source": [
        "numbers=[1,2,3,4,5]\n",
        "squared=list(map(lambda x:x**2,numbers))\n",
        "print(f\"Squared numbers:{squared}\")"
      ],
      "metadata": {
        "colab": {
          "base_uri": "https://localhost:8080/"
        },
        "id": "1GtS-IKIXfNN",
        "outputId": "55e08fef-c7ef-4f1e-8e1f-08678308ac41"
      },
      "execution_count": null,
      "outputs": [
        {
          "output_type": "stream",
          "name": "stdout",
          "text": [
            "Squared numbers:[1, 4, 9, 16, 25]\n"
          ]
        }
      ]
    },
    {
      "cell_type": "markdown",
      "source": [
        "- **Filtering with lambda**"
      ],
      "metadata": {
        "id": "dqL4jr2WXire"
      }
    },
    {
      "cell_type": "code",
      "source": [
        "ages=[16,21,35,12,45,18,67]\n",
        "adults=list(filter(lambda x:x>=18,ages))\n",
        "print(f\"Adults ages:{adults}\")"
      ],
      "metadata": {
        "colab": {
          "base_uri": "https://localhost:8080/"
        },
        "id": "H0LCoFSCXkO2",
        "outputId": "28a4b134-9582-40bd-f486-e766f7de1700"
      },
      "execution_count": null,
      "outputs": [
        {
          "output_type": "stream",
          "name": "stdout",
          "text": [
            "Adults ages:[21, 35, 45, 18, 67]\n"
          ]
        }
      ]
    },
    {
      "cell_type": "markdown",
      "source": [
        "**Sorting with lambda**"
      ],
      "metadata": {
        "id": "qJrfcpnhXpMW"
      }
    },
    {
      "cell_type": "code",
      "source": [
        "people=[\n",
        "    {\"name\":\"Alice\",\"age\":30},\n",
        "    {\"name\":\"Bob\",\"age\":25},\n",
        "    {\"name\":\"Eve\",\"age\":35}\n",
        "]\n",
        "sorted_people=sorted(people,key=lambda person:person[\"age\"])\n",
        "print(\"Sorted people by age:\")\n",
        "for person in sorted_people:\n",
        "  print(f\"{person['name']}:{person['age']}\")"
      ],
      "metadata": {
        "colab": {
          "base_uri": "https://localhost:8080/"
        },
        "id": "UjkeJIi6XsVd",
        "outputId": "409098a5-e374-48f6-c627-50711b09b210"
      },
      "execution_count": null,
      "outputs": [
        {
          "output_type": "stream",
          "name": "stdout",
          "text": [
            "Sorted people by age:\n",
            "Bob:25\n",
            "Alice:30\n",
            "Eve:35\n"
          ]
        }
      ]
    }
  ]
}